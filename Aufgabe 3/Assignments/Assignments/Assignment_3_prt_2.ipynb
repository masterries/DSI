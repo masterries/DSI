{
 "cells": [
  {
   "cell_type": "markdown",
   "metadata": {},
   "source": [
    "## Streamlit"
   ]
  },
  {
   "cell_type": "markdown",
   "metadata": {},
   "source": [
    "Streamlit is an open-source Python library that makes it easy to create and share custom web apps for machine learning and data science. In just a few minutes you can build and deploy powerful data apps. \n",
    "You can either install streamlit via conda or pip\n",
    "* `pip install streamlit`\n",
    "* `conda install -c conda-forge streamlit`"
   ]
  },
  {
   "cell_type": "markdown",
   "metadata": {},
   "source": [
    "Test your installation by running following command in your terminal\n",
    "\n",
    "`streamlit hello`\n",
    "\n",
    "Streamlit's Hello app should appear in a new tab in your web browser!\n",
    "Take a look at the apps, each app includes a documentation.\n",
    "\n",
    "For your homework. You should take a look at the provided `streamlit_city.py` code\n",
    "\n",
    "Refer to documentation to get more ideas about how to use streamlit \n",
    "\n",
    "https://docs.streamlit.io/library/get-started/create-an-app#create-your-first-app\n"
   ]
  },
  {
   "cell_type": "markdown",
   "metadata": {},
   "source": [
    "## Assignment"
   ]
  },
  {
   "cell_type": "markdown",
   "metadata": {
    "tags": []
   },
   "source": [
    "For this assignment you should have already familiarized yourself with the mongodb airbnb dataset.\n",
    "\n",
    "Your task is now to build a Streamlit application, that allows exploration of the dataset.\n",
    "\n",
    "You can choose whichever widgets you prefer to get the tasks done. You are also allowed to use any additional python library you want.\n",
    "\n",
    "### Requirements\n",
    "\n",
    "__You should choose at least two of following filters:__\n",
    "\n",
    "* Filter apartments by price \n",
    "* Filter by Amenities \n",
    "* Property type\n",
    "* At least one review score\n",
    "\n",
    "While a map would be a good choice to display the data, you are still free to choose any adequate way to display and explore the information.\n",
    "\n",
    "Last but not least, we want you to present insights you have gained inside the streamlit app. The value of these insights will not be graded.\n",
    "\n",
    "**Example Insight:** It seems like the number of bathrooms doesn't have any effect on the price.\n",
    "\n",
    "Include __2 insights__ in the streamlit app.\n",
    "\n",
    "Don't forget to have fun!\n",
    "\n",
    "Happy coding! :-)"
   ]
  }
 ],
 "metadata": {
  "kernelspec": {
   "display_name": "Python 3 (ipykernel)",
   "language": "python",
   "name": "python3"
  },
  "language_info": {
   "codemirror_mode": {
    "name": "ipython",
    "version": 3
   },
   "file_extension": ".py",
   "mimetype": "text/x-python",
   "name": "python",
   "nbconvert_exporter": "python",
   "pygments_lexer": "ipython3",
   "version": "3.9.12"
  }
 },
 "nbformat": 4,
 "nbformat_minor": 4
}

{
 "cells": [
  {
   "cell_type": "markdown",
   "metadata": {},
   "source": [
    "# Assignment Part One\n",
    "You are free choose whether to solve the following exercises in MQL or to write the queries in python using <a href='https://pymongo.readthedocs.io/en/stable/'>pymongo</a>"
   ]
  },
  {
   "cell_type": "markdown",
   "metadata": {
    "tags": []
   },
   "source": [
    "## Airbnb Dataset"
   ]
  },
  {
   "cell_type": "markdown",
   "metadata": {},
   "source": [
    "What is the name of the listing in the sample_airbnb.listingsAndReviews dataset\n",
    "that accommodates more than 6 people and has exactly 50 reviews"
   ]
  },
  {
   "cell_type": "code",
   "execution_count": null,
   "metadata": {},
   "outputs": [
    {
     "ename": "",
     "evalue": "",
     "output_type": "error",
     "traceback": [
      "\u001b[1;31mDer Kernel konnte nicht gestartet werden. \n",
      "\u001b[1;31mDer Kernel base (Python 3.9.15) kann nicht verwendet werden. Weitere Informationen finden Sie auf der Registerkarte „Jupyter-Ausgabe“. \n",
      "\u001b[1;31mWeitere Informationen finden Sie im Jupyter-<a href='command:jupyter.viewOutput'>Protokoll</a>."
     ]
    }
   ],
   "source": [
    "#load pymongo\n",
    "from pymongo import MongoClient\n",
    "#connect to the database\n",
    "client = MongoClient('localhost', 27017)"
   ]
  },
  {
   "cell_type": "markdown",
   "metadata": {},
   "source": [
    "Using the sample_airbnb.listingsAndReviews collection find out how many\n",
    "documents have the \"property_type\" \"House\", and include \"Changing table\" as\n",
    "one of the \"amenities\"?"
   ]
  },
  {
   "cell_type": "code",
   "execution_count": null,
   "metadata": {},
   "outputs": [],
   "source": []
  },
  {
   "cell_type": "markdown",
   "metadata": {},
   "source": [
    "What room types are present in the sample_airbnb.listingsAndReviews collection?"
   ]
  },
  {
   "cell_type": "code",
   "execution_count": null,
   "metadata": {
    "tags": []
   },
   "outputs": [],
   "source": []
  },
  {
   "cell_type": "markdown",
   "metadata": {
    "tags": []
   },
   "source": [
    "## Mflix Dataset"
   ]
  },
  {
   "cell_type": "markdown",
   "metadata": {},
   "source": [
    "(following exercise may be easier in python) \n",
    "Our movies dataset has a lot of different documents, some with more convoluted titles than\n",
    "others. \n",
    "Find the count of the number of movies that have a title composed of one word. \n",
    "To clarify, \"Cinderella\" and \"3-25\" should count, where as \"Cast Away\" would not. \n",
    "\n",
    "You may want to take look into the `$split` String expression and the `$size` Array expression\n",
    "\n",
    "* https://docs.mongodb.com/manual/reference/operator/aggregation/split/\n",
    "* https://docs.mongodb.com/manual/reference/operator/aggregation/size/\n",
    "* https://database.guide/mongodb-split/\n",
    "* https://pymongo.readthedocs.io/en/stable/examples/aggregation.html\n",
    "\n"
   ]
  },
  {
   "cell_type": "code",
   "execution_count": null,
   "metadata": {},
   "outputs": [],
   "source": []
  },
  {
   "cell_type": "markdown",
   "metadata": {},
   "source": [
    "Pick all movies that match following criteria: \n",
    "\n",
    "* imdb.rating is at least 7\n",
    "* genres does not contain \"Crime\" or \"Horror\"\n",
    "* rated is either \"PG\" or \"G\"\n"
   ]
  },
  {
   "cell_type": "code",
   "execution_count": null,
   "metadata": {},
   "outputs": [],
   "source": []
  },
  {
   "cell_type": "markdown",
   "metadata": {
    "tags": []
   },
   "source": [
    "## Citibike Data"
   ]
  },
  {
   "cell_type": "markdown",
   "metadata": {},
   "source": [
    "How many trips in the sample_training.trips collection started at stations that are to\n",
    "the west of the -74 longitude coordinate?\n",
    "Longitude decreases in value as you move west."
   ]
  },
  {
   "cell_type": "code",
   "execution_count": null,
   "metadata": {},
   "outputs": [],
   "source": []
  },
  {
   "cell_type": "markdown",
   "metadata": {
    "tags": []
   },
   "source": [
    "What is the difference between the number of people born in 1998 and the number of\n",
    "people born after 1998 in the sample_training.trips collection?"
   ]
  },
  {
   "cell_type": "code",
   "execution_count": null,
   "metadata": {},
   "outputs": [],
   "source": []
  }
 ],
 "metadata": {
  "kernelspec": {
   "display_name": "Python 3.9.15 ('base')",
   "language": "python",
   "name": "python3"
  },
  "language_info": {
   "codemirror_mode": {
    "name": "ipython",
    "version": 3
   },
   "file_extension": ".py",
   "mimetype": "text/x-python",
   "name": "python",
   "nbconvert_exporter": "python",
   "pygments_lexer": "ipython3",
   "version": "3.9.15"
  },
  "vscode": {
   "interpreter": {
    "hash": "e7708f234e4b2701a9ae5ab1a9e8d8c9c184aba7e55e8de280c63fbee5fd4936"
   }
  }
 },
 "nbformat": 4,
 "nbformat_minor": 4
}

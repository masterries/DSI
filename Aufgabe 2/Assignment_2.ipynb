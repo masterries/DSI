{
 "cells": [
  {
   "cell_type": "markdown",
   "metadata": {},
   "source": [
    "# Assignment 2\n",
    "\n",
    "### Leveraging NoSQL functionality in a RDBMS\n",
    "\n",
    "In our last lecturer we have discovered that we can easily blend json and sql data using PostgreSQL's JSONB datatype and its operators.\n",
    "\n",
    "Part 1.) Now it's your task to provide some answers using the migrated json data. \n",
    "\n",
    "Part 2.) Ingest data from an external service. Import data from the New York Times API"
   ]
  },
  {
   "cell_type": "markdown",
   "metadata": {},
   "source": [
    "## Part 1.) Query jtracks data"
   ]
  },
  {
   "cell_type": "markdown",
   "metadata": {},
   "source": [
    "Now that we have received information from our 3rd party seller. We would like to evaluate the data and generate some reports."
   ]
  },
  {
   "cell_type": "markdown",
   "metadata": {},
   "source": [
    "### Most popular artists\n",
    "_Which artists have been listened to most often and how often?_ "
   ]
  },
  {
   "cell_type": "code",
   "execution_count": null,
   "metadata": {},
   "outputs": [],
   "source": []
  },
  {
   "cell_type": "markdown",
   "metadata": {},
   "source": [
    "### Generate an invoice report\n",
    "\n",
    "The \"counts\" field represents the number a specific track has been listened to.\n",
    "Based on the on the pricing information in the tracks table in, generate a report that calculates the total value per track.\n",
    "\n",
    "One count equals one single order. \n",
    "\n",
    "\n",
    "Further Explanation: If the price of a single track is 0.99 and its count equals 10, the total equals 9.90."
   ]
  },
  {
   "cell_type": "code",
   "execution_count": null,
   "metadata": {},
   "outputs": [],
   "source": []
  },
  {
   "cell_type": "markdown",
   "metadata": {},
   "source": [
    "### Most valued artists\n",
    "\n",
    "Similar to the previous question but grouped by the corresponding artist: Using the some information in jtracks, group the total amount by the artist name.\n",
    "\n",
    "Your result should look like:\n",
    "\n",
    "| artist_name | total | \n",
    "|-------------|-------|\n",
    "| AC/DC       | 312.23|\n",
    "| Rammstein   | 200.21|\n",
    "| Queens      |  33.12| "
   ]
  },
  {
   "cell_type": "code",
   "execution_count": null,
   "metadata": {},
   "outputs": [],
   "source": []
  },
  {
   "cell_type": "markdown",
   "metadata": {},
   "source": [
    "### Missing talent\n",
    "\n",
    "There are some artists that are not in our music-store. Of those missing in our music-store, figure out the ones that should be signed us.\n",
    "\n",
    "Query the top 5 artists that have the most total count and are not in our music store. Order your result descending."
   ]
  },
  {
   "cell_type": "code",
   "execution_count": null,
   "metadata": {},
   "outputs": [],
   "source": []
  },
  {
   "cell_type": "markdown",
   "metadata": {},
   "source": [
    "## Part 2.) Data Ingestion from NYT API\n",
    "\n",
    "We ask you to write an application that fetches data from the NYT API (https://developer.nytimes.com/apis) and subsequently run some queries against your dataset.\n",
    "In order to be able to access the NYT API, you'll have to set up an account. After setting up your account, you should be able to fetch data from the REST API using the provided api key. \n",
    "In order to figure out how to provide answers to the following tasks, you'll have to work through to API documentation on your own.\n",
    "You are allowed to use any python 3rd party libraries you want. Be sure to upload this notebook and your python source code + requirements.txt to moodle. \n",
    "Carefully think whether you want to store the whole data returned from an api request or only a fraction of it. \n",
    "You will either have to store the data in your docker database or in a custom database. (This will be decided by the end of the last lecture).\n",
    "\n",
    "You shall provide the sql query that answers the following questions"
   ]
  },
  {
   "cell_type": "markdown",
   "metadata": {},
   "source": [
    "### Number of most viewed\n",
    "How many most viewed articles have been there within the last 30 days?"
   ]
  },
  {
   "cell_type": "code",
   "execution_count": null,
   "metadata": {},
   "outputs": [],
   "source": []
  },
  {
   "cell_type": "markdown",
   "metadata": {},
   "source": [
    "### Section and subsection of most viewed articles\n",
    "\n",
    "Of all most viewed articles within the last 30 days, what where the numbers of articles per section and subsection?\n",
    "\n",
    "\n",
    "Your result should look like the following:\n",
    "\n",
    "\n",
    "| Section | subsection | number | \n",
    "|------------|---------|--------|\n",
    "| U.S.       |Politics |5       |\n",
    "| U.S.       |         |2       |\n",
    "| Business   |         |3       |\n",
    "| Opinion    |         |2       | "
   ]
  },
  {
   "cell_type": "code",
   "execution_count": null,
   "metadata": {},
   "outputs": [],
   "source": []
  },
  {
   "cell_type": "markdown",
   "metadata": {},
   "source": [
    "## Most viewed vs most shared "
   ]
  },
  {
   "cell_type": "markdown",
   "metadata": {},
   "source": [
    "Of all most viewed and most shared sections, compare the number of shared and viewed articles per section within the last 30 days.\n",
    "\n",
    "\n",
    "Your result shall look like the following: (notice '0' if a section does not occur within a type)\n",
    "\n",
    "\n",
    "| Section    | type    | number | \n",
    "|------------|---------|--------|\n",
    "| U.S.       |shared   |5       |\n",
    "| U.S.       |viewed   |3       |\n",
    "| Opinion    |shared   |2       | \n",
    "| Opinion    |viewed   |0       | "
   ]
  },
  {
   "cell_type": "code",
   "execution_count": null,
   "metadata": {},
   "outputs": [],
   "source": []
  },
  {
   "cell_type": "markdown",
   "metadata": {},
   "source": [
    "### Be creative\n",
    "\n",
    "Last but not least, we want you to think of any interesting information you'd like to evaluate using the NYT API.\n",
    "What kind of information might be interesting to know? - You don't need to put too much thought into the question you'd like to answer, but be creative!\n",
    "\n",
    "There's only one catch! - You must use a different category, e.g. top stories, books, movies,... "
   ]
  },
  {
   "cell_type": "markdown",
   "metadata": {},
   "source": [
    "The question you would like to answer ="
   ]
  },
  {
   "cell_type": "markdown",
   "metadata": {},
   "source": [
    "[QUESTION]"
   ]
  },
  {
   "cell_type": "code",
   "execution_count": null,
   "metadata": {},
   "outputs": [],
   "source": []
  }
 ],
 "metadata": {
  "kernelspec": {
   "display_name": "Python 3",
   "language": "python",
   "name": "python3"
  },
  "language_info": {
   "codemirror_mode": {
    "name": "ipython",
    "version": 3
   },
   "file_extension": ".py",
   "mimetype": "text/x-python",
   "name": "python",
   "nbconvert_exporter": "python",
   "pygments_lexer": "ipython3",
   "version": "3.8.3"
  }
 },
 "nbformat": 4,
 "nbformat_minor": 4
}

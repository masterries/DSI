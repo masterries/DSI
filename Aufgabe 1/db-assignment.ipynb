{
 "cells": [
  {
   "cell_type": "markdown",
   "metadata": {
    "id": "bPW7lnQgygRa"
   },
   "source": [
    "Run Query: Find all the tracks whose name starts with 'All'. **How many total records there are for this query?**"
   ]
  },
  {
   "cell_type": "code",
   "execution_count": 1,
   "metadata": {
    "id": "z53a0pcIyifp"
   },
   "outputs": [
    {
     "ename": "SyntaxError",
     "evalue": "invalid syntax (3349716809.py, line 1)",
     "output_type": "error",
     "traceback": [
      "\u001B[0;36m  File \u001B[0;32m\"/var/folders/zm/91mq8jjx24jgncvj733crbvm0000gn/T/ipykernel_2905/3349716809.py\"\u001B[0;36m, line \u001B[0;32m1\u001B[0m\n\u001B[0;31m    SELECT * FROM actors\u001B[0m\n\u001B[0m                  ^\u001B[0m\n\u001B[0;31mSyntaxError\u001B[0m\u001B[0;31m:\u001B[0m invalid syntax\n"
     ]
    }
   ],
   "source": [
    "SELECT * FROM actors"
   ]
  },
  {
   "cell_type": "markdown",
   "metadata": {
    "id": "58RIwz86yivs"
   },
   "source": [
    "Run Query: Find all the customer emails that start with \"J\" and are from gmail.com."
   ]
  },
  {
   "cell_type": "code",
   "execution_count": null,
   "metadata": {
    "id": "b16LHsVKzBKS"
   },
   "outputs": [],
   "source": []
  },
  {
   "cell_type": "markdown",
   "metadata": {},
   "source": [
    "Run Query: Find the albums with 12 or more tracks."
   ]
  },
  {
   "cell_type": "code",
   "execution_count": null,
   "metadata": {},
   "outputs": [],
   "source": []
  },
  {
   "cell_type": "markdown",
   "metadata": {
    "id": "jDxz4RSezQir"
   },
   "source": [
    "Create a list of album titles and the unit prices for the artist \"Audioslave\". "
   ]
  },
  {
   "cell_type": "code",
   "execution_count": null,
   "metadata": {},
   "outputs": [],
   "source": []
  },
  {
   "cell_type": "markdown",
   "metadata": {
    "id": "6TVnINglAGsv"
   },
   "source": [
    "Using a subquery, find the names of all the tracks for the album \"Californication\"."
   ]
  },
  {
   "cell_type": "code",
   "execution_count": null,
   "metadata": {
    "id": "dUppFfETAM9U"
   },
   "outputs": [],
   "source": []
  },
  {
   "cell_type": "markdown",
   "metadata": {
    "id": "vulChgqDANLU"
   },
   "source": [
    "Find the total number of invoices for each customer along with the customer's full name, city and email."
   ]
  },
  {
   "cell_type": "code",
   "execution_count": null,
   "metadata": {
    "id": "sGRBCv0lAOsq"
   },
   "outputs": [],
   "source": []
  },
  {
   "cell_type": "markdown",
   "metadata": {
    "id": "lyJ4BHyIAO2v"
   },
   "source": [
    "After running the query described above, what is the email address of the 5th person, František Wichterlová?"
   ]
  },
  {
   "cell_type": "code",
   "execution_count": null,
   "metadata": {
    "id": "5NrjVMXtARuo"
   },
   "outputs": [],
   "source": []
  },
  {
   "cell_type": "markdown",
   "metadata": {
    "id": "7goiyepjAR7T"
   },
   "source": [
    "Retrieve the track name, album, artistID, and trackID for all the albums."
   ]
  },
  {
   "cell_type": "code",
   "execution_count": null,
   "metadata": {
    "id": "9rPwWSkFATpd"
   },
   "outputs": [],
   "source": []
  },
  {
   "cell_type": "markdown",
   "metadata": {
    "id": "V0CwhMAbAVqr"
   },
   "source": [
    "What is the song title of trackID 12 from the \"For Those About to Rock We Salute You\" ?"
   ]
  },
  {
   "cell_type": "code",
   "execution_count": null,
   "metadata": {
    "id": "BYzFVF9zAYhV"
   },
   "outputs": [],
   "source": []
  },
  {
   "cell_type": "markdown",
   "metadata": {
    "id": "qiIaQQX1AYrq"
   },
   "source": [
    "Retrieve a list with the managers last name, and the last name of the employees who report to him or her. **Who are the reports for the manager named Mitchell?**"
   ]
  },
  {
   "cell_type": "code",
   "execution_count": null,
   "metadata": {
    "id": "AQZBCthEAftB"
   },
   "outputs": [],
   "source": []
  },
  {
   "cell_type": "markdown",
   "metadata": {
    "id": "6gZBptiOAh2c"
   },
   "source": [
    "Find the name and ID of the artists who do not have albums. "
   ]
  },
  {
   "cell_type": "code",
   "execution_count": null,
   "metadata": {
    "id": "IgbisBHkAkU4"
   },
   "outputs": [],
   "source": []
  },
  {
   "cell_type": "markdown",
   "metadata": {
    "id": "lpETQyAhAkgL"
   },
   "source": [
    "Use a UNION to create a list of all the employee's and customer's first names and last names ordered by the last name in descending order. **Determine what is the last name of the 6th record** Remember to order things in descending order to be sure to get the correct answer."
   ]
  },
  {
   "cell_type": "code",
   "execution_count": null,
   "metadata": {
    "id": "zLWDnZ5AArVK"
   },
   "outputs": [],
   "source": []
  },
  {
   "cell_type": "markdown",
   "metadata": {
    "id": "E-HmEIsZArpl"
   },
   "source": [
    "See if there are any customers who have a different city listed in their billing city versus their customer city."
   ]
  },
  {
   "cell_type": "code",
   "execution_count": null,
   "metadata": {
    "id": "Bi4tcpV-AuJM"
   },
   "outputs": [],
   "source": []
  }
 ],
 "metadata": {
  "colab": {
   "collapsed_sections": [],
   "name": "Assignment-5.ipynb",
   "provenance": []
  },
  "kernelspec": {
   "display_name": "Python 3",
   "language": "python",
   "name": "python3"
  },
  "language_info": {
   "codemirror_mode": {
    "name": "ipython",
    "version": 3
   },
   "file_extension": ".py",
   "mimetype": "text/x-python",
   "name": "python",
   "nbconvert_exporter": "python",
   "pygments_lexer": "ipython3",
   "version": "3.8.3"
  }
 },
 "nbformat": 4,
 "nbformat_minor": 1
}
